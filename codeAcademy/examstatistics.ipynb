{
 "cells": [
  {
   "cell_type": "code",
   "execution_count": 2,
   "metadata": {},
   "outputs": [
    {
     "name": "stdout",
     "output_type": "stream",
     "text": [
      "100\n",
      "100\n",
      "90\n",
      "40\n",
      "80\n",
      "100\n",
      "85\n",
      "70\n",
      "90\n",
      "65\n",
      "90\n",
      "85\n",
      "50.5\n",
      "1045.5\n",
      "80.42307692307692\n",
      "334.0710059171598\n",
      "18.277609414722697\n"
     ]
    }
   ],
   "source": [
    "#prints the grades, sum of the grades, average, variance, and standard deviaction\n",
    "\"\"\"\n",
    "Author: Aryan Deorah\n",
    "Source: Code Academy Module #9 Exam Statistics\n",
    "\"\"\"\n",
    "\n",
    "#defines the grades in question\n",
    "grades = [100, 100, 90, 40, 80, 100, 85, 70, 90, 65, 90, 85, 50.5]\n",
    "\n",
    "#defines print_grades function with one argument, grades_input and uses a for loop to print each grade individually\n",
    "def print_grades(grades_input):\n",
    "  for grade in grades_input:\n",
    "    print (grade)\n",
    " \n",
    "  #prints grades in the grades list\n",
    "print_grades(grades)\n",
    "\n",
    "#defines grades_sum function with one argument, scores and sents total to 0\n",
    "def grades_sum(scores):\n",
    "  total = 0\n",
    "  \n",
    "  #loops through scores and adds each score to the total and then returns the total\n",
    "  for score in scores: \n",
    "    total += score\n",
    "  return total\n",
    "\n",
    "#prints the sum of the grades\n",
    "print (grades_sum(grades))\n",
    "\n",
    "#defines grades_average function with takes one argument, grades_input and defines sum_of_grades variable\n",
    "def grades_average(grades_input):\n",
    "  sum_of_grades = grades_sum(grades_input)\n",
    "  \n",
    "  #sets average equal to sum_of_grades divided by the decimal of the length of the grades_input and returns that average\n",
    "  average = sum_of_grades / float(len(grades_input))\n",
    "  return average\n",
    "\n",
    "#prints average of the grades\n",
    "print (grades_average(grades))\n",
    "\n",
    "#defines grades_variance function that takes one argument, scores, sets average variable equal to the average of scores\n",
    "def grades_variance(scores):\n",
    "  average=grades_average(scores)\n",
    "  \n",
    "  #sets variance equal to zero and loops through each score in scores, adding the squared differential from the average to the variance each time.\n",
    "  variance=0\n",
    "  for score in scores:\n",
    "    variance = variance + (average - score) ** 2\n",
    "   \n",
    "  #sets result equal to the variance divided by the length of the scores list and returns that result\n",
    "  result=variance/len(scores)\n",
    "  return result\n",
    "\n",
    "  #prints the variance of the grades\n",
    "print (grades_variance(grades))\n",
    "\n",
    "#defines the grades_std_deviation function with one argument, variance, and returns the square root of the variance \n",
    "def grades_std_deviation(variance):\n",
    "  return variance ** 0.5\n",
    "\n",
    "#sets variance equal to the variance of the grades list and then prints the standard deviation of the grades list\n",
    "variance=grades_variance(grades)\n",
    "print (grades_std_deviation(variance))"
   ]
  },
  {
   "cell_type": "code",
   "execution_count": null,
   "metadata": {},
   "outputs": [],
   "source": []
  }
 ],
 "metadata": {
  "kernelspec": {
   "display_name": "Python 3",
   "language": "python",
   "name": "python3"
  },
  "language_info": {
   "codemirror_mode": {
    "name": "ipython",
    "version": 3
   },
   "file_extension": ".py",
   "mimetype": "text/x-python",
   "name": "python",
   "nbconvert_exporter": "python",
   "pygments_lexer": "ipython3",
   "version": "3.6.5"
  }
 },
 "nbformat": 4,
 "nbformat_minor": 2
}
