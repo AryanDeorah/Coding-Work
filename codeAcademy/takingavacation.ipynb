{
 "cells": [
  {
   "cell_type": "code",
   "execution_count": 2,
   "metadata": {},
   "outputs": [
    {
     "name": "stdout",
     "output_type": "stream",
     "text": [
      "1815\n"
     ]
    }
   ],
   "source": [
    "#Function determines cost of a vacation\n",
    "\"\"\"\n",
    "Author: Aryan Deorah\n",
    "Source: Codeacademy Module #4 Taking a Vacation\n",
    "\"\"\"\n",
    "#defines hotel_cost function with one input, nights, which returns the cost of the hotel\n",
    "def hotel_cost(nights):\n",
    "  return 140*nights\n",
    "\n",
    "#defines plane_ride_cost function with one input, city\n",
    "def plane_ride_cost(city):\n",
    "  \n",
    "  #checks if city is Charlotte and returns airfaire if so\n",
    "  if city==\"Charlotte\":\n",
    "    return 183\n",
    "  \n",
    "  #checks if city is Tampa and returns airfaire if so\n",
    "  elif city==\"Tampa\":\n",
    "    return 220\n",
    "  \n",
    "  #checks if city is Pittsburgh and returns airfaire if so\n",
    "  elif city==\"Pittsburgh\":\n",
    "    return 222\n",
    "  \n",
    "  #checks if city is Los Angeles and returns airfaire if so\n",
    "  elif city==\"Los Angeles\":\n",
    "    return 475\n",
    "  \n",
    "  #defines rental_car_cost function with one input, days, and defines the basic rental car cost, and returns the final rental car cost\n",
    "def rental_car_cost(days):\n",
    "  rental_car_cost=40*days\n",
    "  \n",
    "  #checks the number of days and applies discount if days are greater or equal to 7\n",
    "  if days>=7:\n",
    "    rental_car_cost-=50\n",
    "  \n",
    "   #checks the number of days and applies discount if days are greater or equal to 3\n",
    "  elif days>=3:\n",
    "    rental_car_cost-=20\n",
    "  return rental_car_cost\n",
    "\n",
    "#defines trip_cost function with 3 inputs, city days, and spending_money and returns the total cost of the trip\n",
    "def trip_cost(city,days,spending_money):\n",
    "  return rental_car_cost(days) + hotel_cost(days - 1) + plane_ride_cost(city) + spending_money\n",
    "print (trip_cost(\"Los Angeles\",5,600))"
   ]
  },
  {
   "cell_type": "code",
   "execution_count": null,
   "metadata": {},
   "outputs": [],
   "source": []
  }
 ],
 "metadata": {
  "kernelspec": {
   "display_name": "Python 3",
   "language": "python",
   "name": "python3"
  },
  "language_info": {
   "codemirror_mode": {
    "name": "ipython",
    "version": 3
   },
   "file_extension": ".py",
   "mimetype": "text/x-python",
   "name": "python",
   "nbconvert_exporter": "python",
   "pygments_lexer": "ipython3",
   "version": "3.6.5"
  }
 },
 "nbformat": 4,
 "nbformat_minor": 2
}
