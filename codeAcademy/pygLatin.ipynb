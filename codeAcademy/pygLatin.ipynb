{
 "cells": [
  {
   "cell_type": "code",
   "execution_count": 4,
   "metadata": {},
   "outputs": [
    {
     "name": "stdout",
     "output_type": "stream",
     "text": [
      "Enter a word:aaa\n",
      "aaaay\n"
     ]
    }
   ],
   "source": [
    "#this code is written in python 3\n",
    "\"\"\"\n",
    "Author: Aryan Deorah\n",
    "Source: Code Academy Module #3 Pyg Latin\n",
    "\"\"\"\n",
    "\n",
    "#Takes words and changes them into pyg latin\n",
    "pyg = 'ay'\n",
    "\n",
    "#sets variable original to a raw input\n",
    "original = input('Enter a word:') \n",
    "\n",
    "if len(original) > 0 and original.isalpha(): # checks if length of input is greater than zero and checks if input is word\n",
    "  word=original.lower() # makes input lower case\n",
    "  first=word[0] #identifys first letter of word\n",
    "  new_word=word+first+pyg #combines parts to form pyg latin word\n",
    "  new_word=new_word[1:len(new_word)] #removes first letter of new_word\n",
    "  print (new_word)\n",
    "else: #prints empty if input was empty or used not letter charecters\n",
    "  print ('empty')"
   ]
  },
  {
   "cell_type": "code",
   "execution_count": null,
   "metadata": {},
   "outputs": [],
   "source": []
  }
 ],
 "metadata": {
  "kernelspec": {
   "display_name": "Python 3",
   "language": "python",
   "name": "python3"
  },
  "language_info": {
   "codemirror_mode": {
    "name": "ipython",
    "version": 3
   },
   "file_extension": ".py",
   "mimetype": "text/x-python",
   "name": "python",
   "nbconvert_exporter": "python",
   "pygments_lexer": "ipython3",
   "version": "3.6.5"
  }
 },
 "nbformat": 4,
 "nbformat_minor": 2
}
