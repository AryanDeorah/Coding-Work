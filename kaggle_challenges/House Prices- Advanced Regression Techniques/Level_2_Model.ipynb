{
  "cells": [
    {
      "metadata": {
        "_uuid": "b6269c0e8f417f82daf093dda8fa0da6d2c57d86",
        "_cell_guid": "e81ee64d-e474-4662-9036-ce23df615199"
      },
      "cell_type": "markdown",
      "source": "# Introduction\n**This will be your workspace for the [Machine Learning course](https://www.kaggle.com/learn/machine-learning).**\n\nYou will need to translate the concepts to work with the data in this notebook, the Iowa data. Each page in the Machine Learning course includes instructions for what code to write at that step in the course.\n\n# Write Your Code Below"
    },
    {
      "metadata": {
        "_uuid": "1c728098629e1301643443b1341556a15c089b2b",
        "_cell_guid": "86b26423-563a-4fa1-a595-89e25ff93089",
        "trusted": true
      },
      "cell_type": "code",
      "source": "\"\"\"By Aryan Deorah\nPredicts Housing Prices of Houses in Iowa\"\"\"\n\n#imports pandas as pd\nimport pandas as pd\n\n#imports the training and test data sets as data and test respectively\ndata = pd.read_csv('../input/house-prices-advanced-regression-techniques/train.csv')\ntest = pd.read_csv('../input/house-prices-advanced-regression-techniques/test.csv')\n\n#sets data_target equal to the Sale Price and data_predictors and test_predictors equal to the data excluding the id and the sale preice\ndata_target = data.SalePrice\ndata_predictors = data.drop(['Id','SalePrice'], axis=1)\ntest_predictors = test.drop(['Id'], axis=1)\n\n#sets low_cardinality_cols equal to the columns in data_predictors that are the dtype object and have less than 10 unique values\nlow_cardinality_cols = [cname for cname in data_predictors.columns if \n                                data_predictors[cname].nunique() < 10 and\n                                data_predictors[cname].dtype == \"object\"]\n\n#sets numeric_cols equal to the columns that have numerical values\nnumeric_cols = [cname for cname in data_predictors.columns if \n              data_predictors[cname].dtype in ['int64', 'float64']]\n\n#sets my_cols equal to the other cols combined and sets the training and testing predictors equal to the my_cols in their respective data sets\nmy_cols = low_cardinality_cols + numeric_cols\ntrain_predictors = data_predictors[my_cols]\ntest_predictors = test_predictors[my_cols]\n\n#one hot encodes the testing and training predictors object columns to by expressed by numbers and alights the testing and training predictors\none_hot_encoded_training_predictors = pd.get_dummies(train_predictors)\none_hot_encoded_test_predictors = pd.get_dummies(test_predictors)\nfinal_train, final_test = one_hot_encoded_training_predictors.align(one_hot_encoded_test_predictors,\n                                                                    join='left', \n                                                                    axis=1)\n\n#imports xgbregressor, make_pipeline, Imputer, and SimpleImputer\nfrom xgboost import XGBRegressor\nfrom sklearn.pipeline import make_pipeline\nfrom sklearn.preprocessing import Imputer\nfrom sklearn.impute import SimpleImputer\n\n#makes my pipeline impute the data then run XGBregressor, then fits the data to final_train and data_target and sets the predictions equal to the predictions on final_test\nmy_pipeline = make_pipeline(SimpleImputer(), XGBRegressor())\nmy_pipeline.fit(final_train, data_target)\npredictions = my_pipeline.predict(final_test)\n\n#imports cross validation score and then prints the cross validation score of the model on the training data\nfrom sklearn.model_selection import cross_val_score\nscores = cross_val_score(my_pipeline, final_train, data_target, scoring='neg_mean_absolute_error',cv=5)\nprint(scores)\n\n#sets the file my_submission to a table with two columns, Id and SalePrice, which is the predictions and makes it a csv file\nmy_submission = pd.DataFrame({'Id': test.Id, 'SalePrice': predictions})\nmy_submission.to_csv('submission.csv', index=False)\n\n",
      "execution_count": 3,
      "outputs": [
        {
          "output_type": "stream",
          "text": "[-16083.90097924 -17366.88709332 -16598.72043557 -15189.39886558\n -17291.8169146 ]\n",
          "name": "stdout"
        }
      ]
    },
    {
      "metadata": {
        "_uuid": "64fde43ae8511da761549c42f24eccb5d1039271",
        "_cell_guid": "06a2e301-f224-40d0-8709-a942b24cd124"
      },
      "cell_type": "markdown",
      "source": "\n**If you have any questions or hit any problems, come to the [Learn Discussion](https://www.kaggle.com/learn-forum) for help. **\n\n**Return to [ML Course Index](https://www.kaggle.com/learn/machine-learning)**"
    },
    {
      "metadata": {
        "_uuid": "704e07440d7d4ef7ad3cf25c0a966c000bb8eeef",
        "_cell_guid": "895df7f1-dab8-4c54-ab7e-9a865146deac"
      },
      "cell_type": "markdown",
      "source": ""
    }
  ],
  "metadata": {
    "language_info": {
      "name": "python",
      "version": "3.6.6",
      "mimetype": "text/x-python",
      "codemirror_mode": {
        "name": "ipython",
        "version": 3
      },
      "pygments_lexer": "ipython3",
      "nbconvert_exporter": "python",
      "file_extension": ".py"
    },
    "kernelspec": {
      "display_name": "Python 3",
      "language": "python",
      "name": "python3"
    }
  },
  "nbformat": 4,
  "nbformat_minor": 1
}
